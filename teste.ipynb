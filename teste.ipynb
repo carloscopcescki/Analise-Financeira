{
 "cells": [
  {
   "cell_type": "code",
   "execution_count": 9,
   "metadata": {},
   "outputs": [
    {
     "name": "stdout",
     "output_type": "stream",
     "text": [
      "   Tipo    DATA COM   Pagamento    Valor\n",
      "0   JCP  29/11/2024  02/01/2025  0.01765\n",
      "1   JCP  31/10/2024  02/12/2024  0.01765\n",
      "2   JCP  30/09/2024  01/11/2024  0.01765\n",
      "3   JCP  30/08/2024  01/10/2024  0.01765\n",
      "4   JCP  31/07/2024  02/09/2024  0.01765\n",
      "5   JCP  28/06/2024  01/08/2024  0.01765\n",
      "6   JCP  31/05/2024  01/07/2024  0.01765\n",
      "7   JCP  30/04/2024  03/06/2024  0.01765\n",
      "8   JCP  28/03/2024  02/05/2024  0.01765\n",
      "9   JCP  29/02/2024  01/04/2024  0.01765\n",
      "10  JCP  31/01/2024  01/03/2024  0.01765\n",
      "11  JCP  28/12/2023  01/02/2024  0.01765\n"
     ]
    },
    {
     "name": "stderr",
     "output_type": "stream",
     "text": [
      "C:\\Users\\Mel\\AppData\\Local\\Temp\\ipykernel_21440\\1432752627.py:20: FutureWarning: Passing literal html to 'read_html' is deprecated and will be removed in a future version. To read from a literal string, wrap it in a 'StringIO' object.\n",
      "  tabela = pd.read_html(str(soup), decimal=',', thousands='.')[0]\n"
     ]
    }
   ],
   "source": [
    "import pandas as pd\n",
    "import requests\n",
    "from bs4 import BeautifulSoup\n",
    "\n",
    "# Página com os dividendos\n",
    "stock_url = 'https://statusinvest.com.br/acoes/ITUB4'\n",
    "\n",
    "# Definindo um user agent para simular um navegador\n",
    "headers = {'User-Agent': 'Mozilla/5.0 (Windows NT 10.0; Win64; x64) AppleWebKit/537.36 (KHTML, like Gecko) Chrome/91.0.4472.124 Safari/537.36'}\n",
    "\n",
    "# Fazendo o request da página com headers\n",
    "response = requests.get(stock_url, headers=headers)\n",
    "\n",
    "# Verificando se a requisição foi bem-sucedida\n",
    "if response.status_code == 200:\n",
    "    # Parseando o conteúdo HTML\n",
    "    soup = BeautifulSoup(response.text, 'html.parser')\n",
    "    \n",
    "    # Encontrando a tabela diretamente usando pandas\n",
    "    tabela = pd.read_html(str(soup), decimal=',', thousands='.')[0]\n",
    "    \n",
    "    # Mostrando as 10 primeiras linhas da tabela\n",
    "    print(tabela)\n",
    "else:\n",
    "    print(f\"Failed to retrieve the page. Status code: {response.status_code}\")\n"
   ]
  }
 ],
 "metadata": {
  "kernelspec": {
   "display_name": "Python 3",
   "language": "python",
   "name": "python3"
  },
  "language_info": {
   "codemirror_mode": {
    "name": "ipython",
    "version": 3
   },
   "file_extension": ".py",
   "mimetype": "text/x-python",
   "name": "python",
   "nbconvert_exporter": "python",
   "pygments_lexer": "ipython3",
   "version": "3.11.2"
  }
 },
 "nbformat": 4,
 "nbformat_minor": 2
}
