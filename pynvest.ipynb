{
 "cells": [
  {
   "cell_type": "code",
   "execution_count": 1,
   "metadata": {},
   "outputs": [],
   "source": [
    "# Importando classe\n",
    "from pynvest.scrappers.fundamentus import Fundamentus\n",
    "\n",
    "# Instanciando objeto da classe\n",
    "pynvest_scrapper = Fundamentus()\n",
    "\n",
    "# Obtendo indicadores financeiros de uma Ação\n",
    "df_itub3 = pynvest_scrapper.coleta_indicadores_de_ativo(\"itub3\")\n",
    "df_taee3 = pynvest_scrapper.coleta_indicadores_de_ativo(\"taee3\")\n",
    "df_mxrf11 = pynvest_scrapper.coleta_indicadores_de_ativo(\"mxrf11\")"
   ]
  },
  {
   "cell_type": "code",
   "execution_count": 4,
   "metadata": {},
   "outputs": [
    {
     "data": {
      "application/vnd.microsoft.datawrangler.viewer.v0+json": {
       "columns": [
        {
         "name": "index",
         "rawType": "int64",
         "type": "integer"
        },
        {
         "name": "nome_papel",
         "rawType": "object",
         "type": "string"
        },
        {
         "name": "tipo_papel",
         "rawType": "object",
         "type": "string"
        },
        {
         "name": "nome_empresa",
         "rawType": "object",
         "type": "string"
        },
        {
         "name": "nome_setor",
         "rawType": "object",
         "type": "string"
        },
        {
         "name": "nome_subsetor",
         "rawType": "object",
         "type": "string"
        },
        {
         "name": "vlr_cot",
         "rawType": "object",
         "type": "string"
        },
        {
         "name": "dt_ult_cot",
         "rawType": "object",
         "type": "string"
        },
        {
         "name": "vlr_min_52_sem",
         "rawType": "object",
         "type": "string"
        },
        {
         "name": "vlr_max_52_sem",
         "rawType": "object",
         "type": "string"
        },
        {
         "name": "vol_med_neg_2m",
         "rawType": "object",
         "type": "string"
        },
        {
         "name": "vlr_mercado",
         "rawType": "object",
         "type": "string"
        },
        {
         "name": "vlr_firma",
         "rawType": "object",
         "type": "string"
        },
        {
         "name": "dt_ult_balanco_proc",
         "rawType": "object",
         "type": "string"
        },
        {
         "name": "num_acoes",
         "rawType": "object",
         "type": "string"
        },
        {
         "name": "pct_var_dia",
         "rawType": "object",
         "type": "string"
        },
        {
         "name": "pct_var_mes",
         "rawType": "object",
         "type": "string"
        },
        {
         "name": "pct_var_30d",
         "rawType": "object",
         "type": "string"
        },
        {
         "name": "pct_var_12m",
         "rawType": "object",
         "type": "string"
        },
        {
         "name": "pct_var_ano_a0",
         "rawType": "object",
         "type": "string"
        },
        {
         "name": "pct_var_ano_a1",
         "rawType": "object",
         "type": "string"
        },
        {
         "name": "pct_var_ano_a2",
         "rawType": "object",
         "type": "string"
        },
        {
         "name": "pct_var_ano_a3",
         "rawType": "object",
         "type": "string"
        },
        {
         "name": "pct_var_ano_a4",
         "rawType": "object",
         "type": "string"
        },
        {
         "name": "pct_var_ano_a5",
         "rawType": "object",
         "type": "string"
        },
        {
         "name": "vlr_ind_p_sobre_l",
         "rawType": "object",
         "type": "string"
        },
        {
         "name": "vlr_ind_p_sobre_vp",
         "rawType": "object",
         "type": "string"
        },
        {
         "name": "vlr_ind_p_sobre_ebit",
         "rawType": "object",
         "type": "string"
        },
        {
         "name": "vlr_ind_psr",
         "rawType": "object",
         "type": "string"
        },
        {
         "name": "vlr_ind_p_sobre_ativ",
         "rawType": "object",
         "type": "string"
        },
        {
         "name": "vlr_ind_p_sobre_cap_giro",
         "rawType": "object",
         "type": "string"
        },
        {
         "name": "vlr_ind_p_sobre_ativ_circ_liq",
         "rawType": "object",
         "type": "string"
        },
        {
         "name": "vlr_ind_div_yield",
         "rawType": "object",
         "type": "string"
        },
        {
         "name": "vlr_ind_ev_sobre_ebitda",
         "rawType": "object",
         "type": "string"
        },
        {
         "name": "vlr_ind_ev_sobre_ebit",
         "rawType": "object",
         "type": "string"
        },
        {
         "name": "pct_cresc_rec_liq_ult_5a",
         "rawType": "object",
         "type": "string"
        },
        {
         "name": "vlr_ind_lpa",
         "rawType": "object",
         "type": "string"
        },
        {
         "name": "vlr_ind_vpa",
         "rawType": "object",
         "type": "string"
        },
        {
         "name": "vlr_ind_margem_bruta",
         "rawType": "object",
         "type": "string"
        },
        {
         "name": "vlr_ind_margem_ebit",
         "rawType": "object",
         "type": "string"
        },
        {
         "name": "vlr_ind_margem_liq",
         "rawType": "object",
         "type": "string"
        },
        {
         "name": "vlr_ind_ebit_sobre_ativo",
         "rawType": "object",
         "type": "string"
        },
        {
         "name": "vlr_ind_roic",
         "rawType": "object",
         "type": "string"
        },
        {
         "name": "vlr_ind_roe",
         "rawType": "object",
         "type": "string"
        },
        {
         "name": "vlr_liquidez_corr",
         "rawType": "object",
         "type": "string"
        },
        {
         "name": "vlr_ind_divida_bruta_sobre_patrim",
         "rawType": "object",
         "type": "string"
        },
        {
         "name": "vlr_ind_giro_ativos",
         "rawType": "object",
         "type": "string"
        },
        {
         "name": "vlr_ativo",
         "rawType": "object",
         "type": "string"
        },
        {
         "name": "vlr_disponibilidades",
         "rawType": "object",
         "type": "unknown"
        },
        {
         "name": "vlr_ativ_circulante",
         "rawType": "object",
         "type": "unknown"
        },
        {
         "name": "vlr_divida_bruta",
         "rawType": "object",
         "type": "unknown"
        },
        {
         "name": "vlr_divida_liq",
         "rawType": "object",
         "type": "unknown"
        },
        {
         "name": "vlr_patrim_liq",
         "rawType": "object",
         "type": "string"
        },
        {
         "name": "vlr_receita_liq_ult_12m",
         "rawType": "object",
         "type": "unknown"
        },
        {
         "name": "vlr_ebit_ult_12m",
         "rawType": "object",
         "type": "unknown"
        },
        {
         "name": "vlr_lucro_liq_ult_12m",
         "rawType": "object",
         "type": "string"
        },
        {
         "name": "vlr_receita_liq_ult_3m",
         "rawType": "object",
         "type": "unknown"
        },
        {
         "name": "vlr_ebit_ult_3m",
         "rawType": "object",
         "type": "unknown"
        },
        {
         "name": "vlr_lucro_liq_ult_3m",
         "rawType": "object",
         "type": "string"
        },
        {
         "name": "datetime_exec",
         "rawType": "object",
         "type": "string"
        }
       ],
       "conversionMethod": "pd.DataFrame",
       "ref": "88915947-c543-4454-b9e9-a1ee59b8cc7d",
       "rows": [
        [
         "0",
         "ITUB3",
         "ON N1",
         "ITAUUNIBANCO ON N1",
         "Intermediários Financeiros",
         "Bancos",
         "28,47",
         "20/03/2025",
         "22,65",
         "28,65",
         "23.834.400",
         "307.036.000.000",
         "-",
         "31/12/2024",
         "10.784.500.000",
         "-0,63%",
         "7,69%",
         "7,13%",
         "14,83%",
         "22,57%",
         "0,30%",
         "37,86%",
         "19,29%",
         "-13,08%",
         "-10,53%",
         "8,23",
         "1,52",
         "-",
         "-",
         "-",
         "-",
         "-",
         "8,4%",
         "-",
         "-",
         "",
         "3,46",
         "18,74",
         "-",
         "-",
         "0,0%",
         "0,0%",
         "-",
         "18,5%",
         "-",
         "-",
         "",
         "457.734.000.000",
         null,
         null,
         null,
         null,
         "202.142.000.000",
         null,
         null,
         "37.318.000.000",
         null,
         null,
         "9.201.000.000",
         "21-03-2025 21:02:41"
        ]
       ],
       "shape": {
        "columns": 59,
        "rows": 1
       }
      },
      "text/html": [
       "<div>\n",
       "<style scoped>\n",
       "    .dataframe tbody tr th:only-of-type {\n",
       "        vertical-align: middle;\n",
       "    }\n",
       "\n",
       "    .dataframe tbody tr th {\n",
       "        vertical-align: top;\n",
       "    }\n",
       "\n",
       "    .dataframe thead th {\n",
       "        text-align: right;\n",
       "    }\n",
       "</style>\n",
       "<table border=\"1\" class=\"dataframe\">\n",
       "  <thead>\n",
       "    <tr style=\"text-align: right;\">\n",
       "      <th></th>\n",
       "      <th>nome_papel</th>\n",
       "      <th>tipo_papel</th>\n",
       "      <th>nome_empresa</th>\n",
       "      <th>nome_setor</th>\n",
       "      <th>nome_subsetor</th>\n",
       "      <th>vlr_cot</th>\n",
       "      <th>dt_ult_cot</th>\n",
       "      <th>vlr_min_52_sem</th>\n",
       "      <th>vlr_max_52_sem</th>\n",
       "      <th>vol_med_neg_2m</th>\n",
       "      <th>...</th>\n",
       "      <th>vlr_divida_bruta</th>\n",
       "      <th>vlr_divida_liq</th>\n",
       "      <th>vlr_patrim_liq</th>\n",
       "      <th>vlr_receita_liq_ult_12m</th>\n",
       "      <th>vlr_ebit_ult_12m</th>\n",
       "      <th>vlr_lucro_liq_ult_12m</th>\n",
       "      <th>vlr_receita_liq_ult_3m</th>\n",
       "      <th>vlr_ebit_ult_3m</th>\n",
       "      <th>vlr_lucro_liq_ult_3m</th>\n",
       "      <th>datetime_exec</th>\n",
       "    </tr>\n",
       "  </thead>\n",
       "  <tbody>\n",
       "    <tr>\n",
       "      <th>0</th>\n",
       "      <td>ITUB3</td>\n",
       "      <td>ON N1</td>\n",
       "      <td>ITAUUNIBANCO ON N1</td>\n",
       "      <td>Intermediários Financeiros</td>\n",
       "      <td>Bancos</td>\n",
       "      <td>28,47</td>\n",
       "      <td>20/03/2025</td>\n",
       "      <td>22,65</td>\n",
       "      <td>28,65</td>\n",
       "      <td>23.834.400</td>\n",
       "      <td>...</td>\n",
       "      <td>None</td>\n",
       "      <td>None</td>\n",
       "      <td>202.142.000.000</td>\n",
       "      <td>None</td>\n",
       "      <td>None</td>\n",
       "      <td>37.318.000.000</td>\n",
       "      <td>None</td>\n",
       "      <td>None</td>\n",
       "      <td>9.201.000.000</td>\n",
       "      <td>21-03-2025 21:02:41</td>\n",
       "    </tr>\n",
       "  </tbody>\n",
       "</table>\n",
       "<p>1 rows × 59 columns</p>\n",
       "</div>"
      ],
      "text/plain": [
       "  nome_papel tipo_papel        nome_empresa                  nome_setor  \\\n",
       "0      ITUB3      ON N1  ITAUUNIBANCO ON N1  Intermediários Financeiros   \n",
       "\n",
       "  nome_subsetor vlr_cot  dt_ult_cot vlr_min_52_sem vlr_max_52_sem  \\\n",
       "0        Bancos   28,47  20/03/2025          22,65          28,65   \n",
       "\n",
       "  vol_med_neg_2m  ... vlr_divida_bruta vlr_divida_liq   vlr_patrim_liq  \\\n",
       "0     23.834.400  ...             None           None  202.142.000.000   \n",
       "\n",
       "  vlr_receita_liq_ult_12m vlr_ebit_ult_12m vlr_lucro_liq_ult_12m  \\\n",
       "0                    None             None        37.318.000.000   \n",
       "\n",
       "  vlr_receita_liq_ult_3m vlr_ebit_ult_3m vlr_lucro_liq_ult_3m  \\\n",
       "0                   None            None        9.201.000.000   \n",
       "\n",
       "         datetime_exec  \n",
       "0  21-03-2025 21:02:41  \n",
       "\n",
       "[1 rows x 59 columns]"
      ]
     },
     "execution_count": 4,
     "metadata": {},
     "output_type": "execute_result"
    }
   ],
   "source": [
    "df_itub3"
   ]
  },
  {
   "cell_type": "code",
   "execution_count": 5,
   "metadata": {},
   "outputs": [
    {
     "data": {
      "application/vnd.microsoft.datawrangler.viewer.v0+json": {
       "columns": [
        {
         "name": "index",
         "rawType": "int64",
         "type": "integer"
        },
        {
         "name": "nome_papel",
         "rawType": "object",
         "type": "string"
        },
        {
         "name": "tipo_papel",
         "rawType": "object",
         "type": "string"
        },
        {
         "name": "nome_empresa",
         "rawType": "object",
         "type": "string"
        },
        {
         "name": "nome_setor",
         "rawType": "object",
         "type": "string"
        },
        {
         "name": "nome_subsetor",
         "rawType": "object",
         "type": "string"
        },
        {
         "name": "vlr_cot",
         "rawType": "object",
         "type": "string"
        },
        {
         "name": "dt_ult_cot",
         "rawType": "object",
         "type": "string"
        },
        {
         "name": "vlr_min_52_sem",
         "rawType": "object",
         "type": "string"
        },
        {
         "name": "vlr_max_52_sem",
         "rawType": "object",
         "type": "string"
        },
        {
         "name": "vol_med_neg_2m",
         "rawType": "object",
         "type": "string"
        },
        {
         "name": "vlr_mercado",
         "rawType": "object",
         "type": "string"
        },
        {
         "name": "vlr_firma",
         "rawType": "object",
         "type": "string"
        },
        {
         "name": "dt_ult_balanco_proc",
         "rawType": "object",
         "type": "string"
        },
        {
         "name": "num_acoes",
         "rawType": "object",
         "type": "string"
        },
        {
         "name": "pct_var_dia",
         "rawType": "object",
         "type": "string"
        },
        {
         "name": "pct_var_mes",
         "rawType": "object",
         "type": "string"
        },
        {
         "name": "pct_var_30d",
         "rawType": "object",
         "type": "string"
        },
        {
         "name": "pct_var_12m",
         "rawType": "object",
         "type": "string"
        },
        {
         "name": "pct_var_ano_a0",
         "rawType": "object",
         "type": "string"
        },
        {
         "name": "pct_var_ano_a1",
         "rawType": "object",
         "type": "string"
        },
        {
         "name": "pct_var_ano_a2",
         "rawType": "object",
         "type": "string"
        },
        {
         "name": "pct_var_ano_a3",
         "rawType": "object",
         "type": "string"
        },
        {
         "name": "pct_var_ano_a4",
         "rawType": "object",
         "type": "string"
        },
        {
         "name": "pct_var_ano_a5",
         "rawType": "object",
         "type": "string"
        },
        {
         "name": "vlr_ind_p_sobre_l",
         "rawType": "object",
         "type": "string"
        },
        {
         "name": "vlr_ind_p_sobre_vp",
         "rawType": "object",
         "type": "string"
        },
        {
         "name": "vlr_ind_p_sobre_ebit",
         "rawType": "object",
         "type": "string"
        },
        {
         "name": "vlr_ind_psr",
         "rawType": "object",
         "type": "string"
        },
        {
         "name": "vlr_ind_p_sobre_ativ",
         "rawType": "object",
         "type": "string"
        },
        {
         "name": "vlr_ind_p_sobre_cap_giro",
         "rawType": "object",
         "type": "string"
        },
        {
         "name": "vlr_ind_p_sobre_ativ_circ_liq",
         "rawType": "object",
         "type": "string"
        },
        {
         "name": "vlr_ind_div_yield",
         "rawType": "object",
         "type": "string"
        },
        {
         "name": "vlr_ind_ev_sobre_ebitda",
         "rawType": "object",
         "type": "string"
        },
        {
         "name": "vlr_ind_ev_sobre_ebit",
         "rawType": "object",
         "type": "string"
        },
        {
         "name": "pct_cresc_rec_liq_ult_5a",
         "rawType": "object",
         "type": "string"
        },
        {
         "name": "vlr_ind_lpa",
         "rawType": "object",
         "type": "string"
        },
        {
         "name": "vlr_ind_vpa",
         "rawType": "object",
         "type": "string"
        },
        {
         "name": "vlr_ind_margem_bruta",
         "rawType": "object",
         "type": "string"
        },
        {
         "name": "vlr_ind_margem_ebit",
         "rawType": "object",
         "type": "string"
        },
        {
         "name": "vlr_ind_margem_liq",
         "rawType": "object",
         "type": "string"
        },
        {
         "name": "vlr_ind_ebit_sobre_ativo",
         "rawType": "object",
         "type": "string"
        },
        {
         "name": "vlr_ind_roic",
         "rawType": "object",
         "type": "string"
        },
        {
         "name": "vlr_ind_roe",
         "rawType": "object",
         "type": "string"
        },
        {
         "name": "vlr_liquidez_corr",
         "rawType": "object",
         "type": "string"
        },
        {
         "name": "vlr_ind_divida_bruta_sobre_patrim",
         "rawType": "object",
         "type": "string"
        },
        {
         "name": "vlr_ind_giro_ativos",
         "rawType": "object",
         "type": "string"
        },
        {
         "name": "vlr_ativo",
         "rawType": "object",
         "type": "string"
        },
        {
         "name": "vlr_disponibilidades",
         "rawType": "object",
         "type": "string"
        },
        {
         "name": "vlr_ativ_circulante",
         "rawType": "object",
         "type": "string"
        },
        {
         "name": "vlr_divida_bruta",
         "rawType": "object",
         "type": "string"
        },
        {
         "name": "vlr_divida_liq",
         "rawType": "object",
         "type": "string"
        },
        {
         "name": "vlr_patrim_liq",
         "rawType": "object",
         "type": "string"
        },
        {
         "name": "vlr_receita_liq_ult_12m",
         "rawType": "object",
         "type": "string"
        },
        {
         "name": "vlr_ebit_ult_12m",
         "rawType": "object",
         "type": "string"
        },
        {
         "name": "vlr_lucro_liq_ult_12m",
         "rawType": "object",
         "type": "string"
        },
        {
         "name": "vlr_receita_liq_ult_3m",
         "rawType": "object",
         "type": "string"
        },
        {
         "name": "vlr_ebit_ult_3m",
         "rawType": "object",
         "type": "string"
        },
        {
         "name": "vlr_lucro_liq_ult_3m",
         "rawType": "object",
         "type": "string"
        },
        {
         "name": "datetime_exec",
         "rawType": "object",
         "type": "string"
        }
       ],
       "conversionMethod": "pd.DataFrame",
       "ref": "673b904d-5dc6-47d3-b1f0-4f791ed0bc48",
       "rows": [
        [
         "0",
         "TAEE3",
         "ON N2",
         "TAESA ON N2",
         "Energia Elétrica",
         "Energia Elétrica",
         "11,44",
         "20/03/2025",
         "10,63",
         "11,79",
         "892.277",
         "11.823.200.000",
         "20.872.100.000",
         "31/12/2024",
         "1.033.500.000",
         "0,79%",
         "4,47%",
         "5,44%",
         "4,49%",
         "4,86%",
         "-6,37%",
         "18,83%",
         "7,06%",
         "20,82%",
         "22,67%",
         "6,98",
         "1,70",
         "5,38",
         "3,18",
         "0,58",
         "21,12",
         "-1,13",
         "8,4%",
         "9,39",
         "9,49",
         "",
         "1,64",
         "6,71",
         "66,5%",
         "59,1%",
         "45,6%",
         "10,8%",
         "11,3%",
         "24,4%",
         "1,23",
         "1,41",
         "",
         "20.431.100.000",
         "750.976.000",
         "3.022.660.000",
         "9.799.860.000",
         "9.048.890.000",
         "6.939.500.000",
         "3.718.140.000",
         "2.199.230.000",
         "1.693.920.000",
         "1.084.720.000",
         "580.080.000",
         "507.467.000",
         "21-03-2025 21:02:41"
        ]
       ],
       "shape": {
        "columns": 59,
        "rows": 1
       }
      },
      "text/html": [
       "<div>\n",
       "<style scoped>\n",
       "    .dataframe tbody tr th:only-of-type {\n",
       "        vertical-align: middle;\n",
       "    }\n",
       "\n",
       "    .dataframe tbody tr th {\n",
       "        vertical-align: top;\n",
       "    }\n",
       "\n",
       "    .dataframe thead th {\n",
       "        text-align: right;\n",
       "    }\n",
       "</style>\n",
       "<table border=\"1\" class=\"dataframe\">\n",
       "  <thead>\n",
       "    <tr style=\"text-align: right;\">\n",
       "      <th></th>\n",
       "      <th>nome_papel</th>\n",
       "      <th>tipo_papel</th>\n",
       "      <th>nome_empresa</th>\n",
       "      <th>nome_setor</th>\n",
       "      <th>nome_subsetor</th>\n",
       "      <th>vlr_cot</th>\n",
       "      <th>dt_ult_cot</th>\n",
       "      <th>vlr_min_52_sem</th>\n",
       "      <th>vlr_max_52_sem</th>\n",
       "      <th>vol_med_neg_2m</th>\n",
       "      <th>...</th>\n",
       "      <th>vlr_divida_bruta</th>\n",
       "      <th>vlr_divida_liq</th>\n",
       "      <th>vlr_patrim_liq</th>\n",
       "      <th>vlr_receita_liq_ult_12m</th>\n",
       "      <th>vlr_ebit_ult_12m</th>\n",
       "      <th>vlr_lucro_liq_ult_12m</th>\n",
       "      <th>vlr_receita_liq_ult_3m</th>\n",
       "      <th>vlr_ebit_ult_3m</th>\n",
       "      <th>vlr_lucro_liq_ult_3m</th>\n",
       "      <th>datetime_exec</th>\n",
       "    </tr>\n",
       "  </thead>\n",
       "  <tbody>\n",
       "    <tr>\n",
       "      <th>0</th>\n",
       "      <td>TAEE3</td>\n",
       "      <td>ON N2</td>\n",
       "      <td>TAESA ON N2</td>\n",
       "      <td>Energia Elétrica</td>\n",
       "      <td>Energia Elétrica</td>\n",
       "      <td>11,44</td>\n",
       "      <td>20/03/2025</td>\n",
       "      <td>10,63</td>\n",
       "      <td>11,79</td>\n",
       "      <td>892.277</td>\n",
       "      <td>...</td>\n",
       "      <td>9.799.860.000</td>\n",
       "      <td>9.048.890.000</td>\n",
       "      <td>6.939.500.000</td>\n",
       "      <td>3.718.140.000</td>\n",
       "      <td>2.199.230.000</td>\n",
       "      <td>1.693.920.000</td>\n",
       "      <td>1.084.720.000</td>\n",
       "      <td>580.080.000</td>\n",
       "      <td>507.467.000</td>\n",
       "      <td>21-03-2025 21:02:41</td>\n",
       "    </tr>\n",
       "  </tbody>\n",
       "</table>\n",
       "<p>1 rows × 59 columns</p>\n",
       "</div>"
      ],
      "text/plain": [
       "  nome_papel tipo_papel nome_empresa        nome_setor     nome_subsetor  \\\n",
       "0      TAEE3      ON N2  TAESA ON N2  Energia Elétrica  Energia Elétrica   \n",
       "\n",
       "  vlr_cot  dt_ult_cot vlr_min_52_sem vlr_max_52_sem vol_med_neg_2m  ...  \\\n",
       "0   11,44  20/03/2025          10,63          11,79        892.277  ...   \n",
       "\n",
       "  vlr_divida_bruta vlr_divida_liq vlr_patrim_liq vlr_receita_liq_ult_12m  \\\n",
       "0    9.799.860.000  9.048.890.000  6.939.500.000           3.718.140.000   \n",
       "\n",
       "  vlr_ebit_ult_12m vlr_lucro_liq_ult_12m vlr_receita_liq_ult_3m  \\\n",
       "0    2.199.230.000         1.693.920.000          1.084.720.000   \n",
       "\n",
       "  vlr_ebit_ult_3m vlr_lucro_liq_ult_3m        datetime_exec  \n",
       "0     580.080.000          507.467.000  21-03-2025 21:02:41  \n",
       "\n",
       "[1 rows x 59 columns]"
      ]
     },
     "execution_count": 5,
     "metadata": {},
     "output_type": "execute_result"
    }
   ],
   "source": [
    "df_taee3"
   ]
  },
  {
   "cell_type": "code",
   "execution_count": 2,
   "metadata": {},
   "outputs": [
    {
     "data": {
      "application/vnd.microsoft.datawrangler.viewer.v0+json": {
       "columns": [
        {
         "name": "index",
         "rawType": "int64",
         "type": "integer"
        },
        {
         "name": "fii",
         "rawType": "object",
         "type": "string"
        },
        {
         "name": "nome_fii",
         "rawType": "object",
         "type": "string"
        },
        {
         "name": "tipo_mandato",
         "rawType": "object",
         "type": "string"
        },
        {
         "name": "segmento",
         "rawType": "object",
         "type": "string"
        },
        {
         "name": "tipo_gestao",
         "rawType": "object",
         "type": "string"
        },
        {
         "name": "vlr_cot",
         "rawType": "object",
         "type": "string"
        },
        {
         "name": "dt_ult_cot",
         "rawType": "object",
         "type": "string"
        },
        {
         "name": "vlr_min_52_sem",
         "rawType": "object",
         "type": "string"
        },
        {
         "name": "vlr_max_52_sem",
         "rawType": "object",
         "type": "string"
        },
        {
         "name": "vol_med_neg_2m",
         "rawType": "object",
         "type": "string"
        },
        {
         "name": "vlr_mercado",
         "rawType": "object",
         "type": "string"
        },
        {
         "name": "num_cotas",
         "rawType": "object",
         "type": "string"
        },
        {
         "name": "dt_ult_relat_ger",
         "rawType": "object",
         "type": "string"
        },
        {
         "name": "dt_ult_informe_trim",
         "rawType": "object",
         "type": "string"
        },
        {
         "name": "pct_var_dia",
         "rawType": "object",
         "type": "string"
        },
        {
         "name": "pct_var_mes",
         "rawType": "object",
         "type": "string"
        },
        {
         "name": "pct_var_30d",
         "rawType": "object",
         "type": "string"
        },
        {
         "name": "pct_var_12m",
         "rawType": "object",
         "type": "string"
        },
        {
         "name": "pct_var_ano_a0",
         "rawType": "object",
         "type": "string"
        },
        {
         "name": "pct_var_ano_a1",
         "rawType": "object",
         "type": "string"
        },
        {
         "name": "pct_var_ano_a2",
         "rawType": "object",
         "type": "string"
        },
        {
         "name": "pct_var_ano_a3",
         "rawType": "object",
         "type": "string"
        },
        {
         "name": "pct_var_ano_a4",
         "rawType": "object",
         "type": "string"
        },
        {
         "name": "pct_var_ano_a5",
         "rawType": "object",
         "type": "string"
        },
        {
         "name": "vlr_ffo_yield",
         "rawType": "object",
         "type": "string"
        },
        {
         "name": "vlr_ffo_sobre_cota",
         "rawType": "object",
         "type": "string"
        },
        {
         "name": "vlr_div_yield",
         "rawType": "object",
         "type": "string"
        },
        {
         "name": "vlr_dividendo_sobre_cota",
         "rawType": "object",
         "type": "string"
        },
        {
         "name": "vlr_p_sobre_vp",
         "rawType": "object",
         "type": "string"
        },
        {
         "name": "vlr_vp_sobre_cota",
         "rawType": "object",
         "type": "string"
        },
        {
         "name": "vlr_rec_bruta_ult_12m",
         "rawType": "object",
         "type": "string"
        },
        {
         "name": "vlr_vend_ativ_ult_12m",
         "rawType": "object",
         "type": "string"
        },
        {
         "name": "vlr_ffo_ult_12m",
         "rawType": "object",
         "type": "string"
        },
        {
         "name": "vlr_rendim_distr_ult_12m",
         "rawType": "object",
         "type": "string"
        },
        {
         "name": "vlr_rec_bruta_ult_3m",
         "rawType": "object",
         "type": "string"
        },
        {
         "name": "vlr_vend_ativ_ult_3m",
         "rawType": "object",
         "type": "string"
        },
        {
         "name": "vlr_ffo_ult_3m",
         "rawType": "object",
         "type": "string"
        },
        {
         "name": "vlr_rendim_distr_ult_3m",
         "rawType": "object",
         "type": "string"
        },
        {
         "name": "vlr_ativos",
         "rawType": "object",
         "type": "string"
        },
        {
         "name": "vlr_patrim_liq",
         "rawType": "object",
         "type": "string"
        },
        {
         "name": "qtd_imoveis",
         "rawType": "object",
         "type": "string"
        },
        {
         "name": "qtd_unidades",
         "rawType": "object",
         "type": "string"
        },
        {
         "name": "vlr_imoveis_sobre_pl",
         "rawType": "object",
         "type": "string"
        },
        {
         "name": "total_area_m2",
         "rawType": "object",
         "type": "string"
        },
        {
         "name": "vlr_aluguel_por_m2",
         "rawType": "object",
         "type": "string"
        },
        {
         "name": "vlr_do_m2",
         "rawType": "object",
         "type": "string"
        },
        {
         "name": "vlr_cap_rate",
         "rawType": "object",
         "type": "string"
        },
        {
         "name": "vlr_vacancia_media",
         "rawType": "object",
         "type": "string"
        },
        {
         "name": "datetime_exec",
         "rawType": "object",
         "type": "string"
        }
       ],
       "conversionMethod": "pd.DataFrame",
       "ref": "9dc76fc9-a2f1-49f3-bf35-4119a7e85cda",
       "rows": [
        [
         "0",
         "MXRF11",
         "MAXI RENDA FUNDO DE INVESTIMENTO IMOBILIARIO - FII",
         "Híbrido",
         "Híbrido",
         "Ativa",
         "9,06",
         "21/03/2025",
         "8,58",
         "9,51",
         "12.127.500",
         "3.962.170.000",
         "437.325.297",
         "31/01/2025",
         "31/12/2024",
         "0,44%",
         "0,78%",
         "-0,43%",
         "-2,22%",
         "-0,30%",
         "-0,24%",
         "20,95%",
         "13,93%",
         "5,28%",
         "-14,56%",
         "10,07%",
         "0,91",
         "12,6%",
         "1,06",
         "0,99",
         "9,19",
         "438.568.000",
         "36.431.400",
         "398.805.000",
         "462.717.000",
         "128.840.000",
         "7.965.710",
         "115.750.000",
         "122.451.000",
         "",
         "",
         "3",
         "6",
         "0,3%",
         "77",
         "0",
         "152.827",
         "0,0%",
         "0,0%",
         "23-03-2025 18:58:51"
        ]
       ],
       "shape": {
        "columns": 49,
        "rows": 1
       }
      },
      "text/html": [
       "<div>\n",
       "<style scoped>\n",
       "    .dataframe tbody tr th:only-of-type {\n",
       "        vertical-align: middle;\n",
       "    }\n",
       "\n",
       "    .dataframe tbody tr th {\n",
       "        vertical-align: top;\n",
       "    }\n",
       "\n",
       "    .dataframe thead th {\n",
       "        text-align: right;\n",
       "    }\n",
       "</style>\n",
       "<table border=\"1\" class=\"dataframe\">\n",
       "  <thead>\n",
       "    <tr style=\"text-align: right;\">\n",
       "      <th></th>\n",
       "      <th>fii</th>\n",
       "      <th>nome_fii</th>\n",
       "      <th>tipo_mandato</th>\n",
       "      <th>segmento</th>\n",
       "      <th>tipo_gestao</th>\n",
       "      <th>vlr_cot</th>\n",
       "      <th>dt_ult_cot</th>\n",
       "      <th>vlr_min_52_sem</th>\n",
       "      <th>vlr_max_52_sem</th>\n",
       "      <th>vol_med_neg_2m</th>\n",
       "      <th>...</th>\n",
       "      <th>vlr_patrim_liq</th>\n",
       "      <th>qtd_imoveis</th>\n",
       "      <th>qtd_unidades</th>\n",
       "      <th>vlr_imoveis_sobre_pl</th>\n",
       "      <th>total_area_m2</th>\n",
       "      <th>vlr_aluguel_por_m2</th>\n",
       "      <th>vlr_do_m2</th>\n",
       "      <th>vlr_cap_rate</th>\n",
       "      <th>vlr_vacancia_media</th>\n",
       "      <th>datetime_exec</th>\n",
       "    </tr>\n",
       "  </thead>\n",
       "  <tbody>\n",
       "    <tr>\n",
       "      <th>0</th>\n",
       "      <td>MXRF11</td>\n",
       "      <td>MAXI RENDA FUNDO DE INVESTIMENTO IMOBILIARIO -...</td>\n",
       "      <td>Híbrido</td>\n",
       "      <td>Híbrido</td>\n",
       "      <td>Ativa</td>\n",
       "      <td>9,06</td>\n",
       "      <td>21/03/2025</td>\n",
       "      <td>8,58</td>\n",
       "      <td>9,51</td>\n",
       "      <td>12.127.500</td>\n",
       "      <td>...</td>\n",
       "      <td></td>\n",
       "      <td>3</td>\n",
       "      <td>6</td>\n",
       "      <td>0,3%</td>\n",
       "      <td>77</td>\n",
       "      <td>0</td>\n",
       "      <td>152.827</td>\n",
       "      <td>0,0%</td>\n",
       "      <td>0,0%</td>\n",
       "      <td>23-03-2025 18:58:51</td>\n",
       "    </tr>\n",
       "  </tbody>\n",
       "</table>\n",
       "<p>1 rows × 49 columns</p>\n",
       "</div>"
      ],
      "text/plain": [
       "      fii                                           nome_fii tipo_mandato  \\\n",
       "0  MXRF11  MAXI RENDA FUNDO DE INVESTIMENTO IMOBILIARIO -...      Híbrido   \n",
       "\n",
       "  segmento tipo_gestao vlr_cot  dt_ult_cot vlr_min_52_sem vlr_max_52_sem  \\\n",
       "0  Híbrido       Ativa    9,06  21/03/2025           8,58           9,51   \n",
       "\n",
       "  vol_med_neg_2m  ... vlr_patrim_liq qtd_imoveis qtd_unidades  \\\n",
       "0     12.127.500  ...                          3            6   \n",
       "\n",
       "  vlr_imoveis_sobre_pl total_area_m2 vlr_aluguel_por_m2 vlr_do_m2  \\\n",
       "0                 0,3%            77                  0   152.827   \n",
       "\n",
       "  vlr_cap_rate vlr_vacancia_media        datetime_exec  \n",
       "0         0,0%               0,0%  23-03-2025 18:58:51  \n",
       "\n",
       "[1 rows x 49 columns]"
      ]
     },
     "execution_count": 2,
     "metadata": {},
     "output_type": "execute_result"
    }
   ],
   "source": [
    "df_mxrf11"
   ]
  }
 ],
 "metadata": {
  "kernelspec": {
   "display_name": "Python 3",
   "language": "python",
   "name": "python3"
  },
  "language_info": {
   "codemirror_mode": {
    "name": "ipython",
    "version": 3
   },
   "file_extension": ".py",
   "mimetype": "text/x-python",
   "name": "python",
   "nbconvert_exporter": "python",
   "pygments_lexer": "ipython3",
   "version": "3.11.2"
  }
 },
 "nbformat": 4,
 "nbformat_minor": 2
}
